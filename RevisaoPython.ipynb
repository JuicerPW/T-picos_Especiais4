{
  "nbformat": 4,
  "nbformat_minor": 0,
  "metadata": {
    "colab": {
      "provenance": [],
      "authorship_tag": "ABX9TyNOHl/tCC+o1+MduBOwnKh5",
      "include_colab_link": true
    },
    "kernelspec": {
      "name": "python3",
      "display_name": "Python 3"
    },
    "language_info": {
      "name": "python"
    }
  },
  "cells": [
    {
      "cell_type": "markdown",
      "metadata": {
        "id": "view-in-github",
        "colab_type": "text"
      },
      "source": [
        "<a href=\"https://colab.research.google.com/github/JuicerPW/T-picos_Especiais4/blob/main/RevisaoPython.ipynb\" target=\"_parent\"><img src=\"https://colab.research.google.com/assets/colab-badge.svg\" alt=\"Open In Colab\"/></a>"
      ]
    },
    {
      "cell_type": "code",
      "execution_count": 1,
      "metadata": {
        "colab": {
          "base_uri": "https://localhost:8080/"
        },
        "id": "9ceV5DFWmiy-",
        "outputId": "bf631f81-730a-40b4-971d-7de95a1f2944"
      },
      "outputs": [
        {
          "output_type": "stream",
          "name": "stdout",
          "text": [
            "Indentado corretamente\n"
          ]
        }
      ],
      "source": [
        "# Este é um comentário de uma linha\n",
        "\n",
        "'''\n",
        "Este é um comentário\n",
        "de várias linhas\n",
        "'''\n",
        "if True:\n",
        "    print(\"Indentado corretamente\")\n"
      ]
    },
    {
      "cell_type": "code",
      "source": [
        "a = 10\n",
        "b = 3\n",
        "print(a + b)  # Soma\n",
        "print(a - b)  # Subtração\n",
        "print(a * b)  # Multiplicação\n",
        "print(a / b)  # Divisão\n",
        "print(a % b)  # Módulo\n",
        "print(a ** b) # Exponenciação\n",
        "\n",
        "print(a == b)  # Igual\n",
        "print(a != b)  # Diferente\n",
        "print(a > b)   # Maior\n",
        "print(a <= b)  # Menor ou igual\n",
        "\n",
        "x = True\n",
        "y = False\n",
        "print(x and y)  # E\n",
        "print(x or y)   # Ou\n",
        "print(not x)    # Não\n"
      ],
      "metadata": {
        "colab": {
          "base_uri": "https://localhost:8080/"
        },
        "id": "noYptL0qmtXo",
        "outputId": "7bce7606-f2be-499d-c34e-d4f23ed3d1cf"
      },
      "execution_count": 2,
      "outputs": [
        {
          "output_type": "stream",
          "name": "stdout",
          "text": [
            "13\n",
            "7\n",
            "30\n",
            "3.3333333333333335\n",
            "1\n",
            "1000\n",
            "False\n",
            "True\n",
            "True\n",
            "False\n",
            "False\n",
            "True\n",
            "False\n"
          ]
        }
      ]
    },
    {
      "cell_type": "code",
      "source": [
        "# Inteiros\n",
        "num_int = 10\n",
        "\n",
        "# Ponto flutuante\n",
        "num_float = 3.14\n",
        "\n",
        "# Complexo\n",
        "num_complex = 2 + 3j\n",
        "\n",
        "# String\n",
        "texto = \"Olá, Python!\"\n",
        "\n",
        "# Booleano\n",
        "verdadeiro = True\n",
        "falso = False\n",
        "\n",
        "# Exibindo os tipos\n",
        "print(type(num_int), type(num_float), type(num_complex))\n",
        "print(type(texto), type(verdadeiro))\n"
      ],
      "metadata": {
        "colab": {
          "base_uri": "https://localhost:8080/"
        },
        "id": "qMKZkPLmm14n",
        "outputId": "0ac79c97-dde8-49eb-cfeb-134f3b2b6863"
      },
      "execution_count": 3,
      "outputs": [
        {
          "output_type": "stream",
          "name": "stdout",
          "text": [
            "<class 'int'> <class 'float'> <class 'complex'>\n",
            "<class 'str'> <class 'bool'>\n"
          ]
        }
      ]
    },
    {
      "cell_type": "code",
      "source": [
        "# Lista (mutável)\n",
        "lista = [1, 2, 3, 4]\n",
        "lista.append(5)\n",
        "\n",
        "# Tupla (imutável)\n",
        "tupla = (1, 2, 3)\n",
        "\n",
        "# Conjunto (sem duplicatas)\n",
        "conjunto = {1, 2, 2, 3}\n",
        "\n",
        "# Dicionário (pares chave:valor)\n",
        "dicionario = {'nome': 'Ana', 'idade': 25}\n",
        "\n",
        "print(lista)\n",
        "print(tupla)\n",
        "print(conjunto)\n",
        "print(dicionario)\n"
      ],
      "metadata": {
        "colab": {
          "base_uri": "https://localhost:8080/"
        },
        "id": "-soTZI50m5j_",
        "outputId": "31ed4be6-2245-46d5-9d56-a0575c78235e"
      },
      "execution_count": 4,
      "outputs": [
        {
          "output_type": "stream",
          "name": "stdout",
          "text": [
            "[1, 2, 3, 4, 5]\n",
            "(1, 2, 3)\n",
            "{1, 2, 3}\n",
            "{'nome': 'Ana', 'idade': 25}\n"
          ]
        }
      ]
    },
    {
      "cell_type": "code",
      "source": [
        "#Condicional if, elif, else\n",
        "\n",
        "idade = 20\n",
        "if idade < 18:\n",
        "    print(\"Menor de idade\")\n",
        "elif idade == 18:\n",
        "    print(\"Tem 18 anos\")\n",
        "else:\n",
        "    print(\"Maior de idade\")\n"
      ],
      "metadata": {
        "colab": {
          "base_uri": "https://localhost:8080/"
        },
        "id": "mCB02BO1m8kH",
        "outputId": "ce2248fc-e35e-40ca-eff4-bac0ff13489c"
      },
      "execution_count": 5,
      "outputs": [
        {
          "output_type": "stream",
          "name": "stdout",
          "text": [
            "Maior de idade\n"
          ]
        }
      ]
    },
    {
      "cell_type": "code",
      "source": [
        "#Laço for\n",
        "for i in range(5):\n",
        "    print(i)\n"
      ],
      "metadata": {
        "colab": {
          "base_uri": "https://localhost:8080/"
        },
        "id": "0TP08Iv1nFVH",
        "outputId": "e9dd3008-291b-4997-f70b-895ff7262c35"
      },
      "execution_count": 6,
      "outputs": [
        {
          "output_type": "stream",
          "name": "stdout",
          "text": [
            "0\n",
            "1\n",
            "2\n",
            "3\n",
            "4\n"
          ]
        }
      ]
    },
    {
      "cell_type": "code",
      "source": [
        "#Laço while\n",
        "contador = 0\n",
        "while contador < 3:\n",
        "    print(contador)\n",
        "    contador += 1\n"
      ],
      "metadata": {
        "colab": {
          "base_uri": "https://localhost:8080/"
        },
        "id": "XabBuwuUnNWn",
        "outputId": "56dbaed8-af89-436c-87d7-ed8670020bed"
      },
      "execution_count": 7,
      "outputs": [
        {
          "output_type": "stream",
          "name": "stdout",
          "text": [
            "0\n",
            "1\n",
            "2\n"
          ]
        }
      ]
    },
    {
      "cell_type": "code",
      "source": [
        "#Função com def\n",
        "def saudacao(nome):\n",
        "    return f\"Olá, {nome}!\"\n",
        "\n",
        "print(saudacao(\"Maria\"))\n"
      ],
      "metadata": {
        "colab": {
          "base_uri": "https://localhost:8080/"
        },
        "id": "kz_OhHF3nQm_",
        "outputId": "f2683eb2-250f-4392-83f6-f4823a6a8db8"
      },
      "execution_count": 8,
      "outputs": [
        {
          "output_type": "stream",
          "name": "stdout",
          "text": [
            "Olá, Maria!\n"
          ]
        }
      ]
    },
    {
      "cell_type": "code",
      "source": [
        "#Função Lambda\n",
        "dobro = lambda x: x * 2\n",
        "print(dobro(5))\n"
      ],
      "metadata": {
        "colab": {
          "base_uri": "https://localhost:8080/"
        },
        "id": "a0sWx5flnYmX",
        "outputId": "87ca6e36-d7ec-410a-cec0-74cb40bc8950"
      },
      "execution_count": 9,
      "outputs": [
        {
          "output_type": "stream",
          "name": "stdout",
          "text": [
            "10\n"
          ]
        }
      ]
    },
    {
      "cell_type": "code",
      "source": [
        "# Escrevendo em um arquivo\n",
        "with open(\"exemplo.txt\", \"w\") as f:\n",
        "    f.write(\"Olá, arquivo!\")\n",
        "\n",
        "# Lendo o arquivo\n",
        "with open(\"exemplo.txt\", \"r\") as f:\n",
        "    conteudo = f.read()\n",
        "    print(conteudo)\n"
      ],
      "metadata": {
        "colab": {
          "base_uri": "https://localhost:8080/"
        },
        "id": "899J294Fnd1u",
        "outputId": "42865807-478c-4a79-b344-e3ca331f148c"
      },
      "execution_count": 10,
      "outputs": [
        {
          "output_type": "stream",
          "name": "stdout",
          "text": [
            "Olá, arquivo!\n"
          ]
        }
      ]
    },
    {
      "cell_type": "code",
      "source": [
        "import math\n",
        "import random\n",
        "\n",
        "# Módulo math\n",
        "print(math.sqrt(16))      # Raiz quadrada\n",
        "print(math.pi)            # Valor de pi\n",
        "\n",
        "# Módulo random\n",
        "print(random.randint(1, 10))  # Número aleatório entre 1 e 10\n"
      ],
      "metadata": {
        "colab": {
          "base_uri": "https://localhost:8080/"
        },
        "id": "kcPXG6jZnfQu",
        "outputId": "d31b97c0-6cf3-4b8b-8ade-cb85a78cbc5a"
      },
      "execution_count": 11,
      "outputs": [
        {
          "output_type": "stream",
          "name": "stdout",
          "text": [
            "4.0\n",
            "3.141592653589793\n",
            "3\n"
          ]
        }
      ]
    },
    {
      "cell_type": "code",
      "source": [
        "try:\n",
        "    numero = int(\"abc\")  # Isso causará um erro\n",
        "except ValueError:\n",
        "    print(\"Erro: não é possível converter para inteiro.\")\n",
        "finally:\n",
        "    print(\"Bloco try...except finalizado.\")\n"
      ],
      "metadata": {
        "colab": {
          "base_uri": "https://localhost:8080/"
        },
        "id": "NlRrB3uunhPG",
        "outputId": "aad3663c-f676-4f9d-fde9-cf68f831dbe9"
      },
      "execution_count": 12,
      "outputs": [
        {
          "output_type": "stream",
          "name": "stdout",
          "text": [
            "Erro: não é possível converter para inteiro.\n",
            "Bloco try...except finalizado.\n"
          ]
        }
      ]
    }
  ]
}